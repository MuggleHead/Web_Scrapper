{
 "cells": [
  {
   "cell_type": "code",
   "execution_count": 3,
   "id": "42694299-1d21-49dd-896b-25458f9e89a1",
   "metadata": {},
   "outputs": [],
   "source": [
    "import requests\n",
    "from bs4 import BeautifulSoup as bs\n",
    "from urllib.request import urlopen as uReq\n",
    "import logging"
   ]
  },
  {
   "cell_type": "code",
   "execution_count": 4,
   "id": "a8a5eb74-73f3-4266-aa02-08ba5ce18b9b",
   "metadata": {},
   "outputs": [],
   "source": [
    "flipcart_url = \"https://www.flipkart.com/search?q=\" + \"iphone12\""
   ]
  },
  {
   "cell_type": "code",
   "execution_count": 5,
   "id": "88947753-c59b-4abc-ba0a-34eaa0a765b3",
   "metadata": {},
   "outputs": [
    {
     "data": {
      "text/plain": [
       "'https://www.flipkart.com/search?q=iphone12'"
      ]
     },
     "execution_count": 5,
     "metadata": {},
     "output_type": "execute_result"
    }
   ],
   "source": [
    "flipcart_url"
   ]
  },
  {
   "cell_type": "code",
   "execution_count": 6,
   "id": "28a7bc54-ea0f-49b3-8ee3-09f9c09a5fa3",
   "metadata": {},
   "outputs": [],
   "source": [
    "urlclient =uReq(flipcart_url)"
   ]
  },
  {
   "cell_type": "code",
   "execution_count": 7,
   "id": "fa5bd284-c2ad-46b8-9e38-9a690d3afab4",
   "metadata": {},
   "outputs": [
    {
     "data": {
      "text/plain": [
       "<http.client.HTTPResponse at 0x7f1746e9ca00>"
      ]
     },
     "execution_count": 7,
     "metadata": {},
     "output_type": "execute_result"
    }
   ],
   "source": [
    "urlclient #read from this page"
   ]
  },
  {
   "cell_type": "code",
   "execution_count": 8,
   "id": "acbbfd40-74f1-4b7b-8921-520a07debe18",
   "metadata": {},
   "outputs": [],
   "source": [
    "flipcart_page=urlclient.read() #trying to read the page but not in human readable form"
   ]
  },
  {
   "cell_type": "code",
   "execution_count": 9,
   "id": "fc4cbff6-35e8-4f45-a5bb-c8727b306504",
   "metadata": {},
   "outputs": [],
   "source": [
    "flipcart_html=bs(flipcart_page,'html.parser') #beautify to have it in human readable form call beautiful soap"
   ]
  },
  {
   "cell_type": "code",
   "execution_count": 10,
   "id": "62c2d067-9b4e-4154-af46-1da437c469d4",
   "metadata": {},
   "outputs": [
    {
     "data": {
      "text/plain": [
       "'https://www.flipkart.com//apple-iphone-12-blue-64-gb/p/itm5778ad0d0d255?pid=MOBFWBYZ8DNJNY7N&lid=LSTMOBFWBYZ8DNJNY7NK9PX3E&marketplace=FLIPKART&q=iphone12&store=tyy%2F4io&srno=s_1_1&otracker=search&otracker1=search&fm=organic&iid=63492a8c-2d49-4d7a-8437-59a113b84b4f.MOBFWBYZ8DNJNY7N.SEARCH&ppt=hp&ppn=homepage&ssid=1ulyrdlq400000001684909403956&qH=ad588135f239b88b'"
      ]
     },
     "execution_count": 10,
     "metadata": {},
     "output_type": "execute_result"
    }
   ],
   "source": [
    "\"https://www.flipkart.com/\"+\"/apple-iphone-12-blue-64-gb/p/itm5778ad0d0d255?pid=MOBFWBYZ8DNJNY7N&lid=LSTMOBFWBYZ8DNJNY7NK9PX3E&marketplace=FLIPKART&q=iphone12&store=tyy%2F4io&srno=s_1_1&otracker=search&otracker1=search&fm=organic&iid=63492a8c-2d49-4d7a-8437-59a113b84b4f.MOBFWBYZ8DNJNY7N.SEARCH&ppt=hp&ppn=homepage&ssid=1ulyrdlq400000001684909403956&qH=ad588135f239b88b\"\n",
    "#through this url we are able to go to that product page manually"
   ]
  },
  {
   "cell_type": "code",
   "execution_count": 11,
   "id": "266e0e41-f0f2-4db0-8bf3-30786da3c01c",
   "metadata": {},
   "outputs": [],
   "source": [
    "bigbox = flipcart_html.findAll(\"div\",{\"class\": \"_1AtVbE col-12-12\"}) #element wise data"
   ]
  },
  {
   "cell_type": "code",
   "execution_count": 12,
   "id": "c572a228-482d-4919-b17f-3b785087568c",
   "metadata": {},
   "outputs": [
    {
     "data": {
      "text/plain": [
       "31"
      ]
     },
     "execution_count": 12,
     "metadata": {},
     "output_type": "execute_result"
    }
   ],
   "source": [
    "len(bigbox)"
   ]
  },
  {
   "cell_type": "code",
   "execution_count": 13,
   "id": "5c309642-0130-4426-bfec-a891b7f168bd",
   "metadata": {},
   "outputs": [],
   "source": [
    "del bigbox[0:2]"
   ]
  },
  {
   "cell_type": "code",
   "execution_count": 14,
   "id": "8f501b84-2b75-487c-ae8e-3acecc782bae",
   "metadata": {},
   "outputs": [],
   "source": [
    "productlink=\"https://www.flipkart.com\"+bigbox[2].div.div.div.a['href']\n"
   ]
  },
  {
   "cell_type": "code",
   "execution_count": 15,
   "id": "93b34b30-7fa1-4d18-90ec-74276ff4ace6",
   "metadata": {},
   "outputs": [],
   "source": [
    "product_req=requests.get(productlink)"
   ]
  },
  {
   "cell_type": "code",
   "execution_count": 16,
   "id": "b1c9a5e5-4518-431b-9989-b5b6df6ad9a5",
   "metadata": {},
   "outputs": [
    {
     "data": {
      "text/plain": [
       "'https://www.flipkart.com/apple-iphone-12-blue-64-gb/p/itm5778ad0d0d255?pid=MOBFWBYZ8DNJNY7N&lid=LSTMOBFWBYZ8DNJNY7NK9PX3E&marketplace=FLIPKART&q=iphone12&store=tyy%2F4io&srno=s_1_2&otracker=search&fm=organic&iid=cbdb3aec-3320-4182-ae4a-1479db3baf33.MOBFWBYZ8DNJNY7N.SEARCH&ppt=None&ppn=None&ssid=5ck75rk9qo0000001686058087099&qH=ad588135f239b88b'"
      ]
     },
     "execution_count": 16,
     "metadata": {},
     "output_type": "execute_result"
    }
   ],
   "source": [
    "productlink"
   ]
  },
  {
   "cell_type": "code",
   "execution_count": 17,
   "id": "0e00a833-620c-468d-bc5e-514fd3bfd984",
   "metadata": {},
   "outputs": [],
   "source": [
    "product_html=bs(product_req.text,'html.parser')"
   ]
  },
  {
   "cell_type": "code",
   "execution_count": 18,
   "id": "4aafab00-d756-475e-9061-cab1973f5846",
   "metadata": {},
   "outputs": [],
   "source": [
    "comment_box=product_html.find_all(\"div\",{\"class\":\"_16PBlm\"})"
   ]
  },
  {
   "cell_type": "code",
   "execution_count": 19,
   "id": "7e0d5b9a-4970-4732-bde5-593657e8e8bc",
   "metadata": {},
   "outputs": [
    {
     "data": {
      "text/plain": [
       "11"
      ]
     },
     "execution_count": 19,
     "metadata": {},
     "output_type": "execute_result"
    }
   ],
   "source": [
    "len(comment_box)"
   ]
  },
  {
   "cell_type": "code",
   "execution_count": 20,
   "id": "4eb3975b-326d-4ac0-96de-b0390d6ef1d6",
   "metadata": {},
   "outputs": [
    {
     "name": "stdout",
     "output_type": "stream",
     "text": [
      "Flipkart Customer\n",
      "Anurag Lad\n",
      "Vishal Gandhi\n",
      "Athul Shabu\n",
      "Flipkart Customer\n",
      "Ishu Kumar\n",
      "Vijaya Kurkute\n",
      "Suddha Ram boro\n",
      "Ayaz Ahmad\n",
      "Indradav Sharma \n"
     ]
    },
    {
     "ename": "AttributeError",
     "evalue": "'NoneType' object has no attribute 'div'",
     "output_type": "error",
     "traceback": [
      "\u001b[0;31m---------------------------------------------------------------------------\u001b[0m",
      "\u001b[0;31mAttributeError\u001b[0m                            Traceback (most recent call last)",
      "Cell \u001b[0;32mIn [20], line 2\u001b[0m\n\u001b[1;32m      1\u001b[0m \u001b[38;5;28;01mfor\u001b[39;00m i \u001b[38;5;129;01min\u001b[39;00m comment_box:\n\u001b[0;32m----> 2\u001b[0m     \u001b[38;5;28mprint\u001b[39m(\u001b[43mi\u001b[49m\u001b[38;5;241;43m.\u001b[39;49m\u001b[43mdiv\u001b[49m\u001b[38;5;241;43m.\u001b[39;49m\u001b[43mdiv\u001b[49m\u001b[38;5;241m.\u001b[39mfind_all(\u001b[38;5;124m'\u001b[39m\u001b[38;5;124mp\u001b[39m\u001b[38;5;124m'\u001b[39m,{\u001b[38;5;124m\"\u001b[39m\u001b[38;5;124mclass\u001b[39m\u001b[38;5;124m\"\u001b[39m:\u001b[38;5;124m\"\u001b[39m\u001b[38;5;124m_2sc7ZR _2V5EHH\u001b[39m\u001b[38;5;124m\"\u001b[39m})[\u001b[38;5;241m0\u001b[39m]\u001b[38;5;241m.\u001b[39mtext)\n",
      "\u001b[0;31mAttributeError\u001b[0m: 'NoneType' object has no attribute 'div'"
     ]
    }
   ],
   "source": [
    "for i in comment_box:\n",
    "    print(i.div.div.find_all('p',{\"class\":\"_2sc7ZR _2V5EHH\"})[0].text)"
   ]
  },
  {
   "cell_type": "code",
   "execution_count": 21,
   "id": "99533399-c536-4dbb-83bf-d7c14832ab83",
   "metadata": {},
   "outputs": [
    {
     "name": "stdout",
     "output_type": "stream",
     "text": [
      "5\n",
      "5\n",
      "5\n",
      "5\n",
      "5\n",
      "5\n",
      "5\n",
      "5\n",
      "5\n",
      "5\n"
     ]
    },
    {
     "ename": "AttributeError",
     "evalue": "'NoneType' object has no attribute 'div'",
     "output_type": "error",
     "traceback": [
      "\u001b[0;31m---------------------------------------------------------------------------\u001b[0m",
      "\u001b[0;31mAttributeError\u001b[0m                            Traceback (most recent call last)",
      "Cell \u001b[0;32mIn [21], line 2\u001b[0m\n\u001b[1;32m      1\u001b[0m \u001b[38;5;28;01mfor\u001b[39;00m i \u001b[38;5;129;01min\u001b[39;00m comment_box:\n\u001b[0;32m----> 2\u001b[0m     \u001b[38;5;28mprint\u001b[39m(\u001b[43mi\u001b[49m\u001b[38;5;241;43m.\u001b[39;49m\u001b[43mdiv\u001b[49m\u001b[38;5;241;43m.\u001b[39;49m\u001b[43mdiv\u001b[49m\u001b[38;5;241m.\u001b[39mdiv\u001b[38;5;241m.\u001b[39mdiv\u001b[38;5;241m.\u001b[39mtext)\n",
      "\u001b[0;31mAttributeError\u001b[0m: 'NoneType' object has no attribute 'div'"
     ]
    }
   ],
   "source": [
    "for i in comment_box:\n",
    "    print(i.div.div.div.div.text)"
   ]
  },
  {
   "cell_type": "code",
   "execution_count": 22,
   "id": "5e566a0f-d12c-434f-bd64-06fde7a35a45",
   "metadata": {},
   "outputs": [
    {
     "name": "stdout",
     "output_type": "stream",
     "text": [
      "Terrific\n",
      "Perfect product!\n",
      "Terrific purchase\n",
      "Must buy!\n",
      "Awesome\n",
      "Mind-blowing purchase\n",
      "Highly recommended\n",
      "Awesome\n",
      "Brilliant\n",
      "Must buy!\n"
     ]
    },
    {
     "ename": "AttributeError",
     "evalue": "'NoneType' object has no attribute 'div'",
     "output_type": "error",
     "traceback": [
      "\u001b[0;31m---------------------------------------------------------------------------\u001b[0m",
      "\u001b[0;31mAttributeError\u001b[0m                            Traceback (most recent call last)",
      "Cell \u001b[0;32mIn [22], line 2\u001b[0m\n\u001b[1;32m      1\u001b[0m \u001b[38;5;28;01mfor\u001b[39;00m i \u001b[38;5;129;01min\u001b[39;00m comment_box:\n\u001b[0;32m----> 2\u001b[0m     \u001b[38;5;28mprint\u001b[39m(\u001b[43mi\u001b[49m\u001b[38;5;241;43m.\u001b[39;49m\u001b[43mdiv\u001b[49m\u001b[38;5;241;43m.\u001b[39;49m\u001b[43mdiv\u001b[49m\u001b[38;5;241m.\u001b[39mdiv\u001b[38;5;241m.\u001b[39mp\u001b[38;5;241m.\u001b[39mtext)\n",
      "\u001b[0;31mAttributeError\u001b[0m: 'NoneType' object has no attribute 'div'"
     ]
    }
   ],
   "source": [
    "for i in comment_box:\n",
    "    print(i.div.div.div.p.text)"
   ]
  },
  {
   "cell_type": "code",
   "execution_count": 23,
   "id": "fc2674e8-253b-4ab5-943f-d930dd79b3a4",
   "metadata": {},
   "outputs": [
    {
     "data": {
      "text/plain": [
       "'Wow superb camera phone Very smooth speed and no lag , iphone is the king always Its a beautiful product'"
      ]
     },
     "execution_count": 23,
     "metadata": {},
     "output_type": "execute_result"
    }
   ],
   "source": [
    "comment_box[0].div.div.find_all('div',{'class':''})[0].div.text"
   ]
  },
  {
   "cell_type": "code",
   "execution_count": 24,
   "id": "78625b39-0f6b-4316-a022-23a88e3d22e3",
   "metadata": {},
   "outputs": [
    {
     "name": "stdout",
     "output_type": "stream",
     "text": [
      "Wow superb camera phone Very smooth speed and no lag , iphone is the king always Its a beautiful product\n",
      "The brand is very trustworthy and i got genuine pice at a very low cost.I ordered the green one and trust me the colour was amazing.All the colours but specifically green and purple are nice for look.Thanks to flipkart❤️\n",
      "Awesome phone … value for money.. Happy with battery life.. Awesome camera features… look at the images snapped using the phone… easy to use.. Just feared about getting scratch at back glass… but using cover helped it…\n",
      "Top class performance  and battery backup too. Charges quickly if u are using a 20w charger. Night mode is good , HDR mode works flawlessly. VFM phone.\n",
      "Excellent product worth for every penny, writing this review after using 7 days, earlier was using iPhone 6Plus now on iPhone 12 😍, faster then anything this else.Excellent Picture quality.Just loved it.!!\n",
      "Guys ,this is just Beast at Every Aspect of Configurations, Full Pack with What You want, Like Best Camera , Best Display, Best Battery for whole Day Use, And Everyone know About Processing Speed👌..\n",
      "Thanx flipkart for value super sale for short time period of 1hour😁, flipkart might need to work on faster deliveryIphone 12 which i got in best price on flipkart1. Camera performance - superb2. Display - superb3. Interface - Amazing\n",
      "Thanks flipkart i trust you got my device perfectly loved it best phone in it's segment\n",
      "Almost 1month of purshase and i am loving it . Great for photography and videography and trust me the stability of video is awesome . High end performence in Gaming , the only problem is that it heats up a little while playing Bgmi but if u play in a AC room then there's no issue .The boxy look of iphone 12 is very good and it gives a premium feel while holding . worth buying . also if you are confused between iph 11 or iph12 then close your eyes and go for iphone 12 .\n",
      "I really m glad that i went for i phone in place of all other android devices like the Samsung S series nd one plus . Also , m amazed by the battery life in this i phone . Single charge and its last for a day easily ..Even the gaming experience was great\n"
     ]
    },
    {
     "ename": "AttributeError",
     "evalue": "'NoneType' object has no attribute 'div'",
     "output_type": "error",
     "traceback": [
      "\u001b[0;31m---------------------------------------------------------------------------\u001b[0m",
      "\u001b[0;31mAttributeError\u001b[0m                            Traceback (most recent call last)",
      "Cell \u001b[0;32mIn [24], line 2\u001b[0m\n\u001b[1;32m      1\u001b[0m \u001b[38;5;28;01mfor\u001b[39;00m i \u001b[38;5;129;01min\u001b[39;00m comment_box:\n\u001b[0;32m----> 2\u001b[0m     \u001b[38;5;28mprint\u001b[39m(\u001b[43mi\u001b[49m\u001b[38;5;241;43m.\u001b[39;49m\u001b[43mdiv\u001b[49m\u001b[38;5;241;43m.\u001b[39;49m\u001b[43mdiv\u001b[49m\u001b[38;5;241m.\u001b[39mfind_all(\u001b[38;5;124m'\u001b[39m\u001b[38;5;124mdiv\u001b[39m\u001b[38;5;124m'\u001b[39m,{\u001b[38;5;124m\"\u001b[39m\u001b[38;5;124mclass\u001b[39m\u001b[38;5;124m\"\u001b[39m:\u001b[38;5;124m'\u001b[39m\u001b[38;5;124m'\u001b[39m})[\u001b[38;5;241m0\u001b[39m]\u001b[38;5;241m.\u001b[39mdiv\u001b[38;5;241m.\u001b[39mtext)\n",
      "\u001b[0;31mAttributeError\u001b[0m: 'NoneType' object has no attribute 'div'"
     ]
    }
   ],
   "source": [
    "for i in comment_box:\n",
    "    print(i.div.div.find_all('div',{\"class\":''})[0].div.text)"
   ]
  },
  {
   "cell_type": "code",
   "execution_count": null,
   "id": "3ca507eb-a39d-42c0-8679-aa4f4aec9fcb",
   "metadata": {},
   "outputs": [],
   "source": []
  },
  {
   "cell_type": "code",
   "execution_count": null,
   "id": "322bf49e-5729-4e01-8d62-c845e8b0c82f",
   "metadata": {},
   "outputs": [],
   "source": []
  },
  {
   "cell_type": "code",
   "execution_count": 41,
   "id": "00940b6d-08ab-40c9-bb46-0f81116456b5",
   "metadata": {},
   "outputs": [
    {
     "name": "stdout",
     "output_type": "stream",
     "text": [
      "https://www.flipkart.com/apple-iphone-12-purple-64-gb/p/itmfca1e77621c65?pid=MOBG2EPZJUZEYZGK&lid=LSTMOBG2EPZJUZEYZGK3JC9XU&marketplace=FLIPKART&q=iphone12&store=tyy%2F4io&srno=s_1_1&otracker=search&fm=organic&iid=cdd12aef-4d51-4fc7-a94b-c34a2ac04795.MOBG2EPZJUZEYZGK.SEARCH&ppt=None&ppn=None&ssid=t0c8h73xjk0000001686030938833&qH=ad588135f239b88b\n",
      "https://www.flipkart.com/apple-iphone-12-black-64-gb/p/itma2559422bf7c7?pid=MOBFWBYZU5FWK2VP&lid=LSTMOBFWBYZU5FWK2VPFMEI56&marketplace=FLIPKART&q=iphone12&store=tyy%2F4io&srno=s_1_2&otracker=search&fm=organic&iid=cdd12aef-4d51-4fc7-a94b-c34a2ac04795.MOBFWBYZU5FWK2VP.SEARCH&ppt=None&ppn=None&ssid=t0c8h73xjk0000001686030938833&qH=ad588135f239b88b\n",
      "https://www.flipkart.com/apple-iphone-12-green-64-gb/p/itmc8a19a9686173?pid=MOBFWBYZKK3EJPFW&lid=LSTMOBFWBYZKK3EJPFWVBZVKG&marketplace=FLIPKART&q=iphone12&store=tyy%2F4io&srno=s_1_3&otracker=search&fm=organic&iid=cdd12aef-4d51-4fc7-a94b-c34a2ac04795.MOBFWBYZKK3EJPFW.SEARCH&ppt=None&ppn=None&ssid=t0c8h73xjk0000001686030938833&qH=ad588135f239b88b\n",
      "https://www.flipkart.com/apple-iphone-12-white-64-gb/p/itm8b88bdc03cd79?pid=MOBFWBYZTK33MBG9&lid=LSTMOBFWBYZTK33MBG9ZFJ0HL&marketplace=FLIPKART&q=iphone12&store=tyy%2F4io&srno=s_1_4&otracker=search&fm=organic&iid=cdd12aef-4d51-4fc7-a94b-c34a2ac04795.MOBFWBYZTK33MBG9.SEARCH&ppt=None&ppn=None&ssid=t0c8h73xjk0000001686030938833&qH=ad588135f239b88b\n",
      "https://www.flipkart.com/apple-iphone-12-blue-64-gb/p/itm5778ad0d0d255?pid=MOBFWBYZ8DNJNY7N&lid=LSTMOBFWBYZ8DNJNY7NK9PX3E&marketplace=FLIPKART&q=iphone12&store=tyy%2F4io&srno=s_1_5&otracker=search&fm=organic&iid=cdd12aef-4d51-4fc7-a94b-c34a2ac04795.MOBFWBYZ8DNJNY7N.SEARCH&ppt=None&ppn=None&ssid=t0c8h73xjk0000001686030938833&qH=ad588135f239b88b\n",
      "https://www.flipkart.com/apple-iphone-12-red-128-gb/p/itma7bd86885ed98?pid=MOBFWBYZUHPFWQRD&lid=LSTMOBFWBYZUHPFWQRD6PEPH0&marketplace=FLIPKART&q=iphone12&store=tyy%2F4io&srno=s_1_6&otracker=search&fm=organic&iid=cdd12aef-4d51-4fc7-a94b-c34a2ac04795.MOBFWBYZUHPFWQRD.SEARCH&ppt=None&ppn=None&ssid=t0c8h73xjk0000001686030938833&qH=ad588135f239b88b\n",
      "https://www.flipkart.com/apple-iphone-12-red-64-gb/p/itm3481e4053d500?pid=MOBFWBYZDP6QCQ8F&lid=LSTMOBFWBYZDP6QCQ8FPGCIEN&marketplace=FLIPKART&q=iphone12&store=tyy%2F4io&srno=s_1_7&otracker=search&fm=organic&iid=cdd12aef-4d51-4fc7-a94b-c34a2ac04795.MOBFWBYZDP6QCQ8F.SEARCH&ppt=None&ppn=None&ssid=t0c8h73xjk0000001686030938833&qH=ad588135f239b88b\n",
      "https://www.flipkart.com/apple-iphone-12-black-256-gb/p/itm68421fa1c1121?pid=MOBFWBYZ7CR9FRHZ&lid=LSTMOBFWBYZ7CR9FRHZIALAIL&marketplace=FLIPKART&q=iphone12&store=tyy%2F4io&srno=s_1_8&otracker=search&fm=organic&iid=cdd12aef-4d51-4fc7-a94b-c34a2ac04795.MOBFWBYZ7CR9FRHZ.SEARCH&ppt=None&ppn=None&ssid=t0c8h73xjk0000001686030938833&qH=ad588135f239b88b\n",
      "https://www.flipkart.com/apple-iphone-12-black-128-gb/p/itmf1f0a58f1ecd7?pid=MOBFWBYZK3HACR72&lid=LSTMOBFWBYZK3HACR72T8MSUQ&marketplace=FLIPKART&q=iphone12&store=tyy%2F4io&srno=s_1_9&otracker=search&fm=organic&iid=cdd12aef-4d51-4fc7-a94b-c34a2ac04795.MOBFWBYZK3HACR72.SEARCH&ppt=None&ppn=None&ssid=t0c8h73xjk0000001686030938833&qH=ad588135f239b88b\n",
      "https://www.flipkart.com/apple-iphone-12-blue-256-gb/p/itm3be487cd1dea5?pid=MOBFWBYZKYYZUANT&lid=LSTMOBFWBYZKYYZUANT0DVCKS&marketplace=FLIPKART&q=iphone12&store=tyy%2F4io&srno=s_1_10&otracker=search&fm=organic&iid=cdd12aef-4d51-4fc7-a94b-c34a2ac04795.MOBFWBYZKYYZUANT.SEARCH&ppt=None&ppn=None&ssid=t0c8h73xjk0000001686030938833&qH=ad588135f239b88b\n",
      "https://www.flipkart.com/apple-iphone-12-purple-128-gb/p/itmebc78f1cb26d3?pid=MOBG2EPZK5ZD9KYS&lid=LSTMOBG2EPZK5ZD9KYSPQWXQ0&marketplace=FLIPKART&q=iphone12&store=tyy%2F4io&srno=s_1_11&otracker=search&fm=organic&iid=cdd12aef-4d51-4fc7-a94b-c34a2ac04795.MOBG2EPZK5ZD9KYS.SEARCH&ppt=None&ppn=None&ssid=t0c8h73xjk0000001686030938833&qH=ad588135f239b88b\n",
      "https://www.flipkart.com/apple-iphone-12-green-256-gb/p/itm6d126e7980774?pid=MOBFWBYZZPFJYYEY&lid=LSTMOBFWBYZZPFJYYEYIUA7H8&marketplace=FLIPKART&q=iphone12&store=tyy%2F4io&srno=s_1_12&otracker=search&fm=organic&iid=cdd12aef-4d51-4fc7-a94b-c34a2ac04795.MOBFWBYZZPFJYYEY.SEARCH&ppt=None&ppn=None&ssid=t0c8h73xjk0000001686030938833&qH=ad588135f239b88b\n",
      "https://www.flipkart.com/apple-iphone-12-red-256-gb/p/itm16f42310fe29a?pid=MOBFWBYZEBH6SAFP&lid=LSTMOBFWBYZEBH6SAFPZO0RBP&marketplace=FLIPKART&q=iphone12&store=tyy%2F4io&srno=s_1_13&otracker=search&fm=organic&iid=cdd12aef-4d51-4fc7-a94b-c34a2ac04795.MOBFWBYZEBH6SAFP.SEARCH&ppt=None&ppn=None&ssid=t0c8h73xjk0000001686030938833&qH=ad588135f239b88b\n",
      "https://www.flipkart.com/apple-iphone-12-blue-128-gb/p/itm02853ae92e90a?pid=MOBFWBYZKPTZF9VG&lid=LSTMOBFWBYZKPTZF9VGJD5AMO&marketplace=FLIPKART&q=iphone12&store=tyy%2F4io&srno=s_1_14&otracker=search&fm=organic&iid=cdd12aef-4d51-4fc7-a94b-c34a2ac04795.MOBFWBYZKPTZF9VG.SEARCH&ppt=None&ppn=None&ssid=t0c8h73xjk0000001686030938833&qH=ad588135f239b88b\n",
      "https://www.flipkart.com/apple-iphone-12-white-128-gb/p/itm95393f4c6cc59?pid=MOBFWBYZBTZFGJF9&lid=LSTMOBFWBYZBTZFGJF9RAHZAK&marketplace=FLIPKART&q=iphone12&store=tyy%2F4io&srno=s_1_15&otracker=search&fm=organic&iid=cdd12aef-4d51-4fc7-a94b-c34a2ac04795.MOBFWBYZBTZFGJF9.SEARCH&ppt=None&ppn=None&ssid=t0c8h73xjk0000001686030938833&qH=ad588135f239b88b\n",
      "https://www.flipkart.com/apple-iphone-12-green-128-gb/p/itm4e0a120f7d9c4?pid=MOBFWBYZQXUEHF48&lid=LSTMOBFWBYZQXUEHF48LUVQNT&marketplace=FLIPKART&q=iphone12&store=tyy%2F4io&srno=s_1_16&otracker=search&fm=organic&iid=cdd12aef-4d51-4fc7-a94b-c34a2ac04795.MOBFWBYZQXUEHF48.SEARCH&ppt=None&ppn=None&ssid=t0c8h73xjk0000001686030938833&qH=ad588135f239b88b\n",
      "https://www.flipkart.com/apple-iphone-12-purple-256-gb/p/itmfce36e1443299?pid=MOBG2EPZ6TFVH4YN&lid=LSTMOBG2EPZ6TFVH4YNKR5DFD&marketplace=FLIPKART&q=iphone12&store=tyy%2F4io&srno=s_1_17&otracker=search&fm=organic&iid=cdd12aef-4d51-4fc7-a94b-c34a2ac04795.MOBG2EPZ6TFVH4YN.SEARCH&ppt=None&ppn=None&ssid=t0c8h73xjk0000001686030938833&qH=ad588135f239b88b\n",
      "https://www.flipkart.com/apple-iphone-12-white-256-gb/p/itmcfbcb621e6326?pid=MOBFWBYZMNGZVMJE&lid=LSTMOBFWBYZMNGZVMJEQYPFS1&marketplace=FLIPKART&q=iphone12&store=tyy%2F4io&srno=s_1_18&otracker=search&fm=organic&iid=cdd12aef-4d51-4fc7-a94b-c34a2ac04795.MOBFWBYZMNGZVMJE.SEARCH&ppt=None&ppn=None&ssid=t0c8h73xjk0000001686030938833&qH=ad588135f239b88b\n",
      "https://www.flipkart.com/apple-iphone-14-midnight-128-gb/p/itm9e6293c322a84?pid=MOBGHWFHECFVMDCX&lid=LSTMOBGHWFHECFVMDCXBOYSND&marketplace=FLIPKART&q=iphone12&store=tyy%2F4io&spotlightTagId=FkPickId_tyy%2F4io&srno=s_1_19&otracker=search&fm=organic&iid=cdd12aef-4d51-4fc7-a94b-c34a2ac04795.MOBGHWFHECFVMDCX.SEARCH&ppt=None&ppn=None&ssid=t0c8h73xjk0000001686030938833&qH=ad588135f239b88b\n",
      "https://www.flipkart.com/apple-iphone-14-blue-128-gb/p/itmdb77f40da6b6d?pid=MOBGHWFHSV7GUFWA&lid=LSTMOBGHWFHSV7GUFWAIB1T9P&marketplace=FLIPKART&q=iphone12&store=tyy%2F4io&srno=s_1_20&otracker=search&fm=organic&iid=cdd12aef-4d51-4fc7-a94b-c34a2ac04795.MOBGHWFHSV7GUFWA.SEARCH&ppt=None&ppn=None&ssid=t0c8h73xjk0000001686030938833&qH=ad588135f239b88b\n",
      "https://www.flipkart.com/apple-iphone-14-product-red-128-gb/p/itm1f78a4e1a1d76?pid=MOBGHWFHFBJVSW22&lid=LSTMOBGHWFHFBJVSW22H8TJ3V&marketplace=FLIPKART&q=iphone12&store=tyy%2F4io&srno=s_1_21&otracker=search&fm=organic&iid=cdd12aef-4d51-4fc7-a94b-c34a2ac04795.MOBGHWFHFBJVSW22.SEARCH&ppt=None&ppn=None&ssid=t0c8h73xjk0000001686030938833&qH=ad588135f239b88b\n",
      "https://www.flipkart.com/apple-iphone-14-starlight-128-gb/p/itm3485a56f6e676?pid=MOBGHWFHABH3G73H&lid=LSTMOBGHWFHABH3G73HVXY5AV&marketplace=FLIPKART&q=iphone12&store=tyy%2F4io&srno=s_1_22&otracker=search&fm=organic&iid=cdd12aef-4d51-4fc7-a94b-c34a2ac04795.MOBGHWFHABH3G73H.SEARCH&ppt=None&ppn=None&ssid=t0c8h73xjk0000001686030938833&qH=ad588135f239b88b\n",
      "https://www.flipkart.com/apple-iphone-13-midnight-128-gb/p/itmca361aab1c5b0?pid=MOBG6VF5Q82T3XRS&lid=LSTMOBG6VF5Q82T3XRSOXJLM9&marketplace=FLIPKART&q=iphone12&store=tyy%2F4io&srno=s_1_23&otracker=search&fm=organic&iid=cdd12aef-4d51-4fc7-a94b-c34a2ac04795.MOBG6VF5Q82T3XRS.SEARCH&ppt=None&ppn=None&ssid=t0c8h73xjk0000001686030938833&qH=ad588135f239b88b\n",
      "https://www.flipkart.com/apple-iphone-13-blue-128-gb/p/itm6c601e0a58b3c?pid=MOBG6VF5SMXPNQHG&lid=LSTMOBG6VF5SMXPNQHGL5FN51&marketplace=FLIPKART&q=iphone12&store=tyy%2F4io&srno=s_1_24&otracker=search&fm=organic&iid=cdd12aef-4d51-4fc7-a94b-c34a2ac04795.MOBG6VF5SMXPNQHG.SEARCH&ppt=None&ppn=None&ssid=t0c8h73xjk0000001686030938833&qH=ad588135f239b88b\n"
     ]
    },
    {
     "ename": "AttributeError",
     "evalue": "'NoneType' object has no attribute 'a'",
     "output_type": "error",
     "traceback": [
      "\u001b[0;31m---------------------------------------------------------------------------\u001b[0m",
      "\u001b[0;31mAttributeError\u001b[0m                            Traceback (most recent call last)",
      "Cell \u001b[0;32mIn [41], line 2\u001b[0m\n\u001b[1;32m      1\u001b[0m \u001b[38;5;28;01mfor\u001b[39;00m i \u001b[38;5;129;01min\u001b[39;00m bigbox:\n\u001b[0;32m----> 2\u001b[0m     \u001b[38;5;28mprint\u001b[39m(\u001b[38;5;124m\"\u001b[39m\u001b[38;5;124mhttps://www.flipkart.com\u001b[39m\u001b[38;5;124m\"\u001b[39m\u001b[38;5;241m+\u001b[39m \u001b[43mi\u001b[49m\u001b[38;5;241;43m.\u001b[39;49m\u001b[43mdiv\u001b[49m\u001b[38;5;241;43m.\u001b[39;49m\u001b[43mdiv\u001b[49m\u001b[38;5;241;43m.\u001b[39;49m\u001b[43mdiv\u001b[49m\u001b[38;5;241;43m.\u001b[39;49m\u001b[43ma\u001b[49m[\u001b[38;5;124m'\u001b[39m\u001b[38;5;124mhref\u001b[39m\u001b[38;5;124m'\u001b[39m])\n",
      "\u001b[0;31mAttributeError\u001b[0m: 'NoneType' object has no attribute 'a'"
     ]
    }
   ],
   "source": [
    "for i in bigbox:\n",
    "    print(\"https://www.flipkart.com\"+ i.div.div.div.a['href'])"
   ]
  },
  {
   "cell_type": "code",
   "execution_count": null,
   "id": "5e2738da-bef7-4dc2-832e-17e50f42d76c",
   "metadata": {},
   "outputs": [],
   "source": []
  }
 ],
 "metadata": {
  "kernelspec": {
   "display_name": "Python 3 (ipykernel)",
   "language": "python",
   "name": "python3"
  },
  "language_info": {
   "codemirror_mode": {
    "name": "ipython",
    "version": 3
   },
   "file_extension": ".py",
   "mimetype": "text/x-python",
   "name": "python",
   "nbconvert_exporter": "python",
   "pygments_lexer": "ipython3",
   "version": "3.10.6"
  }
 },
 "nbformat": 4,
 "nbformat_minor": 5
}
